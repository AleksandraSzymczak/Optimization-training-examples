{
 "cells": [
  {
   "cell_type": "markdown",
   "metadata": {},
   "source": [
    "The Stigler diet is an optimization problem named for George Stigler, a 1982 Nobel laureate in economics, who posed the following problem:\n",
    "\n",
    "For a moderately active person weighing 154 pounds, how much of each of 77 foods should be eaten on a daily basis  \n",
    "so that the man’s intake of nine nutrients will be at least equal to the recommended dietary allowances (RDAs)  \n",
    "suggested by the National Research Council in 1943, with the cost of the diet being minimal?  \n",
    "\n",
    "source:https://en.wikipedia.org/wiki/Stigler_diet"
   ]
  },
  {
   "cell_type": "markdown",
   "metadata": {},
   "source": [
    "Load data:"
   ]
  },
  {
   "cell_type": "code",
   "execution_count": 2,
   "metadata": {},
   "outputs": [],
   "source": [
    "import pandas as pd\n",
    "\n",
    "commodities_list = pd.read_csv(\"commodities_list.csv\")\n",
    "nutrients_list = pd.read_csv(\"nutrients_list.csv\")"
   ]
  },
  {
   "cell_type": "code",
   "execution_count": 3,
   "metadata": {},
   "outputs": [
    {
     "data": {
      "text/html": [
       "<div>\n",
       "<style scoped>\n",
       "    .dataframe tbody tr th:only-of-type {\n",
       "        vertical-align: middle;\n",
       "    }\n",
       "\n",
       "    .dataframe tbody tr th {\n",
       "        vertical-align: top;\n",
       "    }\n",
       "\n",
       "    .dataframe thead th {\n",
       "        text-align: right;\n",
       "    }\n",
       "</style>\n",
       "<table border=\"1\" class=\"dataframe\">\n",
       "  <thead>\n",
       "    <tr style=\"text-align: right;\">\n",
       "      <th></th>\n",
       "      <th>Commodity</th>\n",
       "      <th>Unit</th>\n",
       "      <th>1939 price (cents)</th>\n",
       "      <th>Calories (kcal)</th>\n",
       "      <th>Protein (g)</th>\n",
       "      <th>Calcium (g)</th>\n",
       "      <th>Iron (mg)</th>\n",
       "      <th>Vitamin A (KIU)</th>\n",
       "      <th>Thiamine (mg)</th>\n",
       "      <th>Riboflavin (mg)</th>\n",
       "      <th>Niacin (mg)</th>\n",
       "      <th>Ascorbic Acid (mg)</th>\n",
       "    </tr>\n",
       "  </thead>\n",
       "  <tbody>\n",
       "    <tr>\n",
       "      <th>0</th>\n",
       "      <td>Wheat Flour</td>\n",
       "      <td>10 lb.</td>\n",
       "      <td>36.0</td>\n",
       "      <td>44.7</td>\n",
       "      <td>1411</td>\n",
       "      <td>2.0</td>\n",
       "      <td>365</td>\n",
       "      <td>0.0</td>\n",
       "      <td>55.4</td>\n",
       "      <td>33.3</td>\n",
       "      <td>441</td>\n",
       "      <td>0</td>\n",
       "    </tr>\n",
       "    <tr>\n",
       "      <th>1</th>\n",
       "      <td>Macaroni</td>\n",
       "      <td>1 lb.</td>\n",
       "      <td>14.1</td>\n",
       "      <td>11.6</td>\n",
       "      <td>418</td>\n",
       "      <td>0.7</td>\n",
       "      <td>54</td>\n",
       "      <td>0.0</td>\n",
       "      <td>3.2</td>\n",
       "      <td>1.9</td>\n",
       "      <td>68</td>\n",
       "      <td>0</td>\n",
       "    </tr>\n",
       "    <tr>\n",
       "      <th>2</th>\n",
       "      <td>Wheat Cereal</td>\n",
       "      <td>28 oz.</td>\n",
       "      <td>24.2</td>\n",
       "      <td>11.8</td>\n",
       "      <td>377</td>\n",
       "      <td>14.4</td>\n",
       "      <td>175</td>\n",
       "      <td>0.0</td>\n",
       "      <td>14.4</td>\n",
       "      <td>8.8</td>\n",
       "      <td>114</td>\n",
       "      <td>0</td>\n",
       "    </tr>\n",
       "    <tr>\n",
       "      <th>3</th>\n",
       "      <td>Corn Flakes</td>\n",
       "      <td>8 oz.</td>\n",
       "      <td>7.1</td>\n",
       "      <td>11.4</td>\n",
       "      <td>252</td>\n",
       "      <td>0.1</td>\n",
       "      <td>56</td>\n",
       "      <td>0.0</td>\n",
       "      <td>13.5</td>\n",
       "      <td>2.3</td>\n",
       "      <td>68</td>\n",
       "      <td>0</td>\n",
       "    </tr>\n",
       "    <tr>\n",
       "      <th>4</th>\n",
       "      <td>Corn Meal</td>\n",
       "      <td>1 lb.</td>\n",
       "      <td>4.6</td>\n",
       "      <td>36.0</td>\n",
       "      <td>897</td>\n",
       "      <td>1.7</td>\n",
       "      <td>99</td>\n",
       "      <td>30.9</td>\n",
       "      <td>17.4</td>\n",
       "      <td>7.9</td>\n",
       "      <td>106</td>\n",
       "      <td>0</td>\n",
       "    </tr>\n",
       "  </tbody>\n",
       "</table>\n",
       "</div>"
      ],
      "text/plain": [
       "      Commodity    Unit  1939 price (cents)  Calories (kcal)  Protein (g)  \\\n",
       "0   Wheat Flour  10 lb.                36.0             44.7         1411   \n",
       "1      Macaroni   1 lb.                14.1             11.6          418   \n",
       "2  Wheat Cereal  28 oz.                24.2             11.8          377   \n",
       "3   Corn Flakes   8 oz.                 7.1             11.4          252   \n",
       "4     Corn Meal   1 lb.                 4.6             36.0          897   \n",
       "\n",
       "   Calcium (g)  Iron (mg)  Vitamin A (KIU)  Thiamine (mg)  Riboflavin (mg)  \\\n",
       "0          2.0        365              0.0           55.4             33.3   \n",
       "1          0.7         54              0.0            3.2              1.9   \n",
       "2         14.4        175              0.0           14.4              8.8   \n",
       "3          0.1         56              0.0           13.5              2.3   \n",
       "4          1.7         99             30.9           17.4              7.9   \n",
       "\n",
       "   Niacin (mg)  Ascorbic Acid (mg)  \n",
       "0          441                   0  \n",
       "1           68                   0  \n",
       "2          114                   0  \n",
       "3           68                   0  \n",
       "4          106                   0  "
      ]
     },
     "execution_count": 3,
     "metadata": {},
     "output_type": "execute_result"
    }
   ],
   "source": [
    "commodities_list.head()"
   ]
  },
  {
   "cell_type": "code",
   "execution_count": 4,
   "metadata": {},
   "outputs": [
    {
     "data": {
      "text/html": [
       "<div>\n",
       "<style scoped>\n",
       "    .dataframe tbody tr th:only-of-type {\n",
       "        vertical-align: middle;\n",
       "    }\n",
       "\n",
       "    .dataframe tbody tr th {\n",
       "        vertical-align: top;\n",
       "    }\n",
       "\n",
       "    .dataframe thead th {\n",
       "        text-align: right;\n",
       "    }\n",
       "</style>\n",
       "<table border=\"1\" class=\"dataframe\">\n",
       "  <thead>\n",
       "    <tr style=\"text-align: right;\">\n",
       "      <th></th>\n",
       "      <th>Nutrient</th>\n",
       "      <th>Daily Recommended Intake</th>\n",
       "    </tr>\n",
       "  </thead>\n",
       "  <tbody>\n",
       "    <tr>\n",
       "      <th>0</th>\n",
       "      <td>Calories</td>\n",
       "      <td>3,000 calories</td>\n",
       "    </tr>\n",
       "    <tr>\n",
       "      <th>1</th>\n",
       "      <td>Protein</td>\n",
       "      <td>70 grams</td>\n",
       "    </tr>\n",
       "    <tr>\n",
       "      <th>2</th>\n",
       "      <td>Calcium</td>\n",
       "      <td>.8 grams</td>\n",
       "    </tr>\n",
       "    <tr>\n",
       "      <th>3</th>\n",
       "      <td>Iron</td>\n",
       "      <td>12 milligrams</td>\n",
       "    </tr>\n",
       "    <tr>\n",
       "      <th>4</th>\n",
       "      <td>Vitamin A</td>\n",
       "      <td>5,000 IU</td>\n",
       "    </tr>\n",
       "  </tbody>\n",
       "</table>\n",
       "</div>"
      ],
      "text/plain": [
       "    Nutrient Daily Recommended Intake\n",
       "0   Calories           3,000 calories\n",
       "1    Protein                 70 grams\n",
       "2    Calcium                 .8 grams\n",
       "3       Iron            12 milligrams\n",
       "4  Vitamin A                 5,000 IU"
      ]
     },
     "execution_count": 4,
     "metadata": {},
     "output_type": "execute_result"
    }
   ],
   "source": [
    "nutrients_list.head()"
   ]
  },
  {
   "cell_type": "code",
   "execution_count": 1,
   "metadata": {},
   "outputs": [],
   "source": [
    "import xpress as xp"
   ]
  },
  {
   "cell_type": "code",
   "execution_count": 5,
   "metadata": {},
   "outputs": [
    {
     "name": "stdout",
     "output_type": "stream",
     "text": [
      "Using the Community license in this session. If you have a full Xpress license, pass the full path to your license file to xpress.init(). If you want to use the FICO Community license and no longer want to see this message, use the following code before using the xpress module:\n",
      "  xpress.init('c:/Users/szymczak.a.4/AppData/Local/Programs/Python/Python311/Lib/site-packages/xpress/license/community-xpauth.xpr')\n"
     ]
    }
   ],
   "source": [
    "model = xp.problem(name=\"stigler-diet\")"
   ]
  },
  {
   "cell_type": "markdown",
   "metadata": {},
   "source": [
    "Create variables"
   ]
  },
  {
   "cell_type": "code",
   "execution_count": 9,
   "metadata": {},
   "outputs": [
    {
     "ename": "TypeError",
     "evalue": "problem.addVariable() takes no keyword arguments",
     "output_type": "error",
     "traceback": [
      "\u001b[1;31m---------------------------------------------------------------------------\u001b[0m",
      "\u001b[1;31mTypeError\u001b[0m                                 Traceback (most recent call last)",
      "Cell \u001b[1;32mIn[9], line 6\u001b[0m\n\u001b[0;32m      4\u001b[0m \u001b[38;5;28;01mfor\u001b[39;00m index, row \u001b[38;5;129;01min\u001b[39;00m commodities_list[\u001b[38;5;124m\"\u001b[39m\u001b[38;5;124mCommodity\u001b[39m\u001b[38;5;124m\"\u001b[39m]\u001b[38;5;241m.\u001b[39mitems():\n\u001b[0;32m      5\u001b[0m     name \u001b[38;5;241m=\u001b[39m row\u001b[38;5;241m.\u001b[39mreplace(\u001b[38;5;124m\"\u001b[39m\u001b[38;5;124m \u001b[39m\u001b[38;5;124m\"\u001b[39m, \u001b[38;5;124m\"\u001b[39m\u001b[38;5;124m_\u001b[39m\u001b[38;5;124m\"\u001b[39m)\n\u001b[1;32m----> 6\u001b[0m     temp \u001b[38;5;241m=\u001b[39m \u001b[43mmodel\u001b[49m\u001b[38;5;241;43m.\u001b[39;49m\u001b[43maddVariable\u001b[49m\u001b[43m(\u001b[49m\u001b[43mname\u001b[49m\u001b[38;5;241;43m=\u001b[39;49m\u001b[43mname\u001b[49m\u001b[43m)\u001b[49m\n\u001b[0;32m      7\u001b[0m     x\u001b[38;5;241m.\u001b[39mappend(temp)\n",
      "\u001b[1;31mTypeError\u001b[0m: problem.addVariable() takes no keyword arguments"
     ]
    }
   ],
   "source": [
    "import re\n",
    "x=[]\n",
    "\n",
    "for index, row in commodities_list[\"Commodity\"].items():\n",
    "    name = row.replace(\" \", \"_\")\n",
    "    temp = model.addVariable(vartype=xp.integer, name=name)\n",
    "    x.append(temp)\n"
   ]
  },
  {
   "cell_type": "code",
   "execution_count": null,
   "metadata": {},
   "outputs": [],
   "source": [
    "calories_constraint = model.addConstr((gb.quicksum(commodities_list[\"Calories (kcal)\"][idx]*food for idx, food in enumerate(x))) == 3000 , name=\"meet_calories_restrictions\")"
   ]
  },
  {
   "cell_type": "code",
   "execution_count": null,
   "metadata": {},
   "outputs": [],
   "source": [
    "protein_constraint = model.addConstr((gb.quicksum(commodities_list[\"Protein (g)\"][idx]*food for idx, food in enumerate(x))) == 70 , name=\"meet_protein_restrictions\")"
   ]
  },
  {
   "cell_type": "code",
   "execution_count": null,
   "metadata": {},
   "outputs": [],
   "source": [
    "calcium_constraint = model.addConstr((gb.quicksum(commodities_list[\"Calcium (g)\"][idx]*food for idx, food in enumerate(x))) == 0.8 , name=\"meet_calcium_restrictions\")"
   ]
  },
  {
   "cell_type": "code",
   "execution_count": null,
   "metadata": {},
   "outputs": [],
   "source": [
    "iron_constraint = model.addConstr((gb.quicksum(commodities_list[\"Iron (mg)\"][idx]*food for idx, food in enumerate(x))) == 0.8 , name=\"meet_iron_restrictions\")"
   ]
  },
  {
   "cell_type": "code",
   "execution_count": null,
   "metadata": {},
   "outputs": [],
   "source": [
    "vitaminA_constraint = model.addConstr((gb.quicksum(commodities_list[\"Vitamin A (KIU)\"][idx]*food for idx, food in enumerate(x))) == 5000 , name=\"meet_vitaminA_restrictions\")"
   ]
  },
  {
   "cell_type": "code",
   "execution_count": null,
   "metadata": {},
   "outputs": [],
   "source": [
    "vitaminB1_constraint = model.addConstr((gb.quicksum(commodities_list[\"Thiamine (mg)\"][idx]*food for idx, food in enumerate(x))) == 1.8 , name=\"meet_vitaminB1_restrictions\")"
   ]
  },
  {
   "cell_type": "code",
   "execution_count": null,
   "metadata": {},
   "outputs": [],
   "source": [
    "vitaminB2_constraint = model.addConstr((gb.quicksum(commodities_list[\"Riboflavin (mg)\"][idx]*food for idx, food in enumerate(x))) == 2.7 , name=\"meet_vitaminB2_restrictions\")"
   ]
  },
  {
   "cell_type": "code",
   "execution_count": null,
   "metadata": {},
   "outputs": [],
   "source": [
    "niacyn_constraint = model.addConstr((gb.quicksum(commodities_list[\"Niacin (mg)\"][idx]*food for idx, food in enumerate(x))) == 18 , name=\"meet_niacyn_restrictions\")"
   ]
  },
  {
   "cell_type": "code",
   "execution_count": null,
   "metadata": {},
   "outputs": [],
   "source": [
    "model.remove(calories_constraint)"
   ]
  },
  {
   "cell_type": "code",
   "execution_count": null,
   "metadata": {},
   "outputs": [],
   "source": [
    "model.update()"
   ]
  },
  {
   "cell_type": "code",
   "execution_count": null,
   "metadata": {},
   "outputs": [],
   "source": [
    "model.setObjective(gb.quicksum(food*commodities_list[\"1939 price (cents)\"][idx] for idx, food in enumerate(x)), GRB.MINIMIZE)"
   ]
  },
  {
   "cell_type": "code",
   "execution_count": null,
   "metadata": {},
   "outputs": [],
   "source": [
    "model.write('diet_problem.lp')"
   ]
  },
  {
   "cell_type": "code",
   "execution_count": null,
   "metadata": {},
   "outputs": [
    {
     "name": "stdout",
     "output_type": "stream",
     "text": [
      "Gurobi Optimizer version 11.0.2 build v11.0.2rc0 (win64 - Windows 10.0 (19045.2))\n",
      "\n",
      "CPU model: 11th Gen Intel(R) Core(TM) i5-1145G7 @ 2.60GHz, instruction set [SSE2|AVX|AVX2|AVX512]\n",
      "Thread count: 4 physical cores, 8 logical processors, using up to 8 threads\n",
      "\n",
      "Optimize a model with 8 rows, 77 columns and 540 nonzeros\n",
      "Model fingerprint: 0xf9cec2c9\n",
      "Coefficient statistics:\n",
      "  Matrix range     [1e-01, 2e+03]\n",
      "  Objective range  [4e+00, 5e+01]\n",
      "  Bounds range     [0e+00, 0e+00]\n",
      "  RHS range        [8e-01, 5e+03]\n",
      "Presolve time: 0.02s\n",
      "\n",
      "Solved in 0 iterations and 0.02 seconds (0.00 work units)\n",
      "Infeasible model\n"
     ]
    }
   ],
   "source": [
    "model.optimize()"
   ]
  },
  {
   "cell_type": "code",
   "execution_count": null,
   "metadata": {},
   "outputs": [
    {
     "ename": "AttributeError",
     "evalue": "'gurobipy.Model' object has no attribute 'Wheat_Flour'",
     "output_type": "error",
     "traceback": [
      "\u001b[1;31m---------------------------------------------------------------------------\u001b[0m",
      "\u001b[1;31mAttributeError\u001b[0m                            Traceback (most recent call last)",
      "Cell \u001b[1;32mIn[68], line 1\u001b[0m\n\u001b[1;32m----> 1\u001b[0m x_values \u001b[38;5;241m=\u001b[39m pd\u001b[38;5;241m.\u001b[39mSeries(\u001b[43mmodel\u001b[49m\u001b[38;5;241;43m.\u001b[39;49m\u001b[43mgetAttr\u001b[49m\u001b[43m(\u001b[49m\u001b[38;5;124;43m\"\u001b[39;49m\u001b[38;5;124;43mWheat_Flour\u001b[39;49m\u001b[38;5;124;43m\"\u001b[39;49m\u001b[43m,\u001b[49m\u001b[43m \u001b[49m\u001b[43mx\u001b[49m\u001b[43m)\u001b[49m, name \u001b[38;5;241m=\u001b[39m \u001b[38;5;124m\"\u001b[39m\u001b[38;5;124mshipment\u001b[39m\u001b[38;5;124m\"\u001b[39m)\n",
      "File \u001b[1;32msrc\\\\gurobipy\\\\model.pxi:1880\u001b[0m, in \u001b[0;36mgurobipy.Model.getAttr\u001b[1;34m()\u001b[0m\n",
      "File \u001b[1;32msrc\\\\gurobipy\\\\attrutil.pxi:26\u001b[0m, in \u001b[0;36mgurobipy._getattrinfo\u001b[1;34m()\u001b[0m\n",
      "\u001b[1;31mAttributeError\u001b[0m: 'gurobipy.Model' object has no attribute 'Wheat_Flour'"
     ]
    }
   ],
   "source": [
    "x_values = pd.Series(model.getAttr(\"Wheat_Flour\", x), name = \"shipment\")"
   ]
  },
  {
   "cell_type": "code",
   "execution_count": null,
   "metadata": {},
   "outputs": [
    {
     "data": {
      "text/plain": [
       "<gurobi.Var Wheat_Flour>"
      ]
     },
     "execution_count": 61,
     "metadata": {},
     "output_type": "execute_result"
    }
   ],
   "source": [
    "x[0]"
   ]
  },
  {
   "cell_type": "markdown",
   "metadata": {},
   "source": [
    "Create decision variables  \n",
    " ~the values that we need to decide on"
   ]
  },
  {
   "cell_type": "code",
   "execution_count": null,
   "metadata": {},
   "outputs": [],
   "source": [
    "decision_var = {(i,j,k): xp.var(name=f\"x_{i}_{j}_{k}\") for i in range(0,9) for j in range(0,9) for k in range(0,9)}"
   ]
  },
  {
   "cell_type": "code",
   "execution_count": null,
   "metadata": {},
   "outputs": [
    {
     "ename": "NameError",
     "evalue": "name 'xp' is not defined",
     "output_type": "error",
     "traceback": [
      "\u001b[1;31m---------------------------------------------------------------------------\u001b[0m",
      "\u001b[1;31mNameError\u001b[0m                                 Traceback (most recent call last)",
      "Cell \u001b[1;32mIn[37], line 1\u001b[0m\n\u001b[1;32m----> 1\u001b[0m problem \u001b[38;5;241m=\u001b[39m \u001b[43mxp\u001b[49m\u001b[38;5;241m.\u001b[39mproblem(gb\u001b[38;5;241m.\u001b[39mquicksum(food\u001b[38;5;241m*\u001b[39mcommodities_list[\u001b[38;5;124m\"\u001b[39m\u001b[38;5;124m1939 price (cents)\u001b[39m\u001b[38;5;124m\"\u001b[39m][idx] \u001b[38;5;28;01mfor\u001b[39;00m idx, food \u001b[38;5;129;01min\u001b[39;00m \u001b[38;5;28menumerate\u001b[39m(x)), GRB\u001b[38;5;241m.\u001b[39mMINIMIZE)\n",
      "\u001b[1;31mNameError\u001b[0m: name 'xp' is not defined"
     ]
    }
   ],
   "source": [
    "problem = xp.problem(gb.quicksum(food*commodities_list[\"1939 price (cents)\"][idx] for idx, food in enumerate(x)), GRB.MINIMIZE)"
   ]
  },
  {
   "cell_type": "code",
   "execution_count": null,
   "metadata": {},
   "outputs": [],
   "source": []
  }
 ],
 "metadata": {
  "kernelspec": {
   "display_name": "Python 3",
   "language": "python",
   "name": "python3"
  },
  "language_info": {
   "codemirror_mode": {
    "name": "ipython",
    "version": 3
   },
   "file_extension": ".py",
   "mimetype": "text/x-python",
   "name": "python",
   "nbconvert_exporter": "python",
   "pygments_lexer": "ipython3",
   "version": "3.11.8"
  }
 },
 "nbformat": 4,
 "nbformat_minor": 2
}
